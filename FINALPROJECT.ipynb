{
 "cells": [
  {
   "cell_type": "markdown",
   "metadata": {},
   "source": [
    "# Birds, dinosaurs, reptiles, and mammals (oh my)\n",
    "\n",
    "We don't have data on cerebrum size for most organisms, but we can apply machine learning to body mass and brain volume values to classify organisms into birds, dinosaurs, reptiles, and mammals.\n",
    "\n",
    "## Import libraries and data\n",
    "\n",
    "Import the libraries you need to build a decision tree and read the bird_dino_gator.csv file into a dataframe. How many rows does the data have?"
   ]
  },
  {
   "cell_type": "code",
   "execution_count": 4,
   "metadata": {},
   "outputs": [
    {
     "data": {
      "text/html": [
       "<div>\n",
       "<style scoped>\n",
       "    .dataframe tbody tr th:only-of-type {\n",
       "        vertical-align: middle;\n",
       "    }\n",
       "\n",
       "    .dataframe tbody tr th {\n",
       "        vertical-align: top;\n",
       "    }\n",
       "\n",
       "    .dataframe thead th {\n",
       "        text-align: right;\n",
       "    }\n",
       "</style>\n",
       "<table border=\"1\" class=\"dataframe\">\n",
       "  <thead>\n",
       "    <tr style=\"text-align: right;\">\n",
       "      <th></th>\n",
       "      <th>Species Type</th>\n",
       "      <th>Genus</th>\n",
       "      <th>Species</th>\n",
       "      <th>Brain mass (g)</th>\n",
       "      <th>Body mass (g)</th>\n",
       "    </tr>\n",
       "  </thead>\n",
       "  <tbody>\n",
       "    <tr>\n",
       "      <th>0</th>\n",
       "      <td>M</td>\n",
       "      <td>Sciurus</td>\n",
       "      <td>aberti</td>\n",
       "      <td>6.850</td>\n",
       "      <td>626.5</td>\n",
       "    </tr>\n",
       "    <tr>\n",
       "      <th>1</th>\n",
       "      <td>M</td>\n",
       "      <td>Cynomops</td>\n",
       "      <td>abrasus</td>\n",
       "      <td>0.418</td>\n",
       "      <td>33.3</td>\n",
       "    </tr>\n",
       "    <tr>\n",
       "      <th>2</th>\n",
       "      <td>M</td>\n",
       "      <td>Myoprocta</td>\n",
       "      <td>acouchy</td>\n",
       "      <td>9.900</td>\n",
       "      <td>782.0</td>\n",
       "    </tr>\n",
       "    <tr>\n",
       "      <th>3</th>\n",
       "      <td>M</td>\n",
       "      <td>Rhinolophus</td>\n",
       "      <td>acuminatus</td>\n",
       "      <td>0.302</td>\n",
       "      <td>12.1</td>\n",
       "    </tr>\n",
       "    <tr>\n",
       "      <th>4</th>\n",
       "      <td>M</td>\n",
       "      <td>Lagenorhynchus</td>\n",
       "      <td>acutus</td>\n",
       "      <td>1200.000</td>\n",
       "      <td>120000.0</td>\n",
       "    </tr>\n",
       "  </tbody>\n",
       "</table>\n",
       "</div>"
      ],
      "text/plain": [
       "  Species Type           Genus     Species  Brain mass (g)  Body mass (g)\n",
       "0            M         Sciurus      aberti           6.850          626.5\n",
       "1            M        Cynomops     abrasus           0.418           33.3\n",
       "2            M       Myoprocta     acouchy           9.900          782.0\n",
       "3            M     Rhinolophus  acuminatus           0.302           12.1\n",
       "4            M  Lagenorhynchus      acutus        1200.000       120000.0"
      ]
     },
     "execution_count": 4,
     "metadata": {},
     "output_type": "execute_result"
    }
   ],
   "source": [
    "import pandas as pd\n",
    "import numpy as np\n",
    "import matplotlib.pyplot as plt \n",
    "import pydotplus \n",
    "import collections\n",
    "from sklearn import tree\n",
    "df = pd.read_csv(\"bird_mammal_dino_reptile.csv\")\n",
    "df.head()"
   ]
  },
  {
   "cell_type": "markdown",
   "metadata": {},
   "source": [
    "Convert the dataframe to a numpy array. (Note, we are not going to calculate a brain to body mass ratio here, we are just going to use these two values as our features for each species.)"
   ]
  },
  {
   "cell_type": "code",
   "execution_count": 2,
   "metadata": {},
   "outputs": [],
   "source": [
    "array = df.to_numpy()"
   ]
  },
  {
   "cell_type": "markdown",
   "metadata": {},
   "source": [
    "## Training/test data\n",
    "\n",
    "We are going to split up our dataset into training data, that we will use to train the algorithm, and test data, that we will use to see how well the algorithm performs like we did with the k-nearest neighbors algorithm. From sklearn.model_selection, import train_test_split. Divide the data into 80% training and 20% test data:"
   ]
  },
  {
   "cell_type": "code",
   "execution_count": 3,
   "metadata": {},
   "outputs": [
    {
     "name": "stdout",
     "output_type": "stream",
     "text": [
      "['B' 'B' 'B' ... 'B' 'B' 'B']\n"
     ]
    }
   ],
   "source": [
    "y = array[:, 0]\n",
    "x = array[:, 3:5]\n",
    "from sklearn.model_selection import train_test_split\n",
    "X_train, X_test, Y_train, Y_test = train_test_split(x, y, test_size= 0.2)\n",
    "print(Y_test)"
   ]
  },
  {
   "cell_type": "markdown",
   "metadata": {},
   "source": [
    "## Create decision tree\n",
    "\n",
    "Create a decision tree classifier to classify the brains as birds, dinosaurs, or reptiles based on the brain to body mass ratio and cerebrum to whole brain ratio. Make sure to run your decision tree only on the training data (not the test data)."
   ]
  },
  {
   "cell_type": "code",
   "execution_count": 4,
   "metadata": {},
   "outputs": [
    {
     "data": {
      "image/png": "[encoded data removed]",
      "text/plain": [
       "<Figure size 432x288 with 1 Axes>"
      ]
     },
     "metadata": {
      "needs_background": "light"
     },
     "output_type": "display_data"
    }
   ],
   "source": [
    "clf = tree.DecisionTreeClassifier()\n",
    "fit = clf.fit(X_train,Y_train)\n",
    "tree.plot_tree(decision_tree = fit, class_names= [\"bird\", \"dino\", \"reptile\", \"mammal\"])\n",
    "plt.rcParams[\"figure.figsize\"] = (200,100)"
   ]
  },
  {
   "cell_type": "markdown",
   "metadata": {},
   "source": [
    "## Testing\n",
    "\n",
    "We can evaluate our decision tree on our testing data."
   ]
  },
  {
   "cell_type": "code",
   "execution_count": 5,
   "metadata": {},
   "outputs": [
    {
     "data": {
      "text/plain": [
       "array(['B', 'B', 'B', ..., 'M', 'B', 'B'], dtype=object)"
      ]
     },
     "execution_count": 5,
     "metadata": {},
     "output_type": "execute_result"
    }
   ],
   "source": [
    "clf.predict(X_test)"
   ]
  },
  {
   "cell_type": "markdown",
   "metadata": {},
   "source": [
    "Calculate the accuracy of the decision tree by importing `metrics` from `sklearn` and then finding the accuracy score."
   ]
  },
  {
   "cell_type": "code",
   "execution_count": 6,
   "metadata": {},
   "outputs": [
    {
     "data": {
      "text/plain": [
       "0.8053231939163498"
      ]
     },
     "execution_count": 6,
     "metadata": {},
     "output_type": "execute_result"
    }
   ],
   "source": [
    "from sklearn import metrics \n",
    "metrics.accuracy_score(Y_test, clf.predict(X_test))"
   ]
  },
  {
   "cell_type": "markdown",
   "metadata": {},
   "source": [
    "## Beautification\n",
    "\n",
    "If time permits, play around with changing the appearance of your decision tree and plotting a decision surface!"
   ]
  },
  {
   "cell_type": "code",
   "execution_count": 7,
   "metadata": {},
   "outputs": [
    {
     "data": {
      "text/plain": [
       "True"
      ]
     },
     "execution_count": 7,
     "metadata": {},
     "output_type": "execute_result"
    }
   ],
   "source": [
    "data_class_names = [\"Bird\", \"Dino\", \"Reptile\", \"Mammal\"]\n",
    "data_feature_names = [\"Brain Mass\", \"Body Mass\"]\n",
    "dot_data = tree.export_graphviz(clf, class_names=data_class_names, filled=True, feature_names = data_feature_names,\n",
    "                                rounded=True, out_file=None, max_depth= 5.5)\n",
    "graph = pydotplus.graph_from_dot_data(dot_data)\n",
    "\n",
    "colors = ('yellow', 'green', 'red', 'deepskyblue', 'purple')\n",
    "edges = collections.defaultdict(list)\n",
    "\n",
    "for edge in graph.get_edge_list():\n",
    "    edges[edge.get_source()].append(int(edge.get_destination()))\n",
    "\n",
    "for edge in edges:\n",
    "    edges[edge].sort()    \n",
    "    for i in range(2):\n",
    "        dest = graph.get_node(str(edges[edge][i]))[0]\n",
    "        dest.set_fillcolor(colors[i])\n",
    "\n",
    "nodes = graph.get_node_list()\n",
    "\n",
    "#for node in nodes:\n",
    "    #if node.get_label():\n",
    "        #values = [int(ii) for ii in node.get_label().split('value = [')[1].split(']')[0].split(',')]\n",
    "        #values = [int(255 * v / sum(values)) for v in values]\n",
    "        #color = '#{:02x}{:02x}{:02x}'.format(values[0], values[1], values[2])\n",
    "        #node.set_fillcolor(color)\n",
    "        \n",
    "for node in nodes:\n",
    "    if node.get_name() not in ('node', 'edge'):\n",
    "        values = clf.tree_.value[int(node.get_name())][0]\n",
    "        #color only nodes where only one class is present\n",
    "        if max(values) == sum(values):    \n",
    "            node.set_fillcolor(colors[np.argmax(values)])\n",
    "        #mixed nodes get the default color\n",
    "        else:\n",
    "            node.set_fillcolor(colors[-1])\n",
    "\n",
    "graph.write_png('new_tree.png')"
   ]
  },
  {
   "cell_type": "code",
   "execution_count": 8,
   "metadata": {},
   "outputs": [
    {
     "data": {
      "text/plain": [
       "0.8053231939163498"
      ]
     },
     "execution_count": 8,
     "metadata": {},
     "output_type": "execute_result"
    }
   ],
   "source": [
    "from sklearn import metrics \n",
    "metrics.accuracy_score(Y_test, clf.predict(X_test))"
   ]
  },
  {
   "cell_type": "markdown",
   "metadata": {},
   "source": [
    "## Decision Surface"
   ]
  },
  {
   "cell_type": "code",
   "execution_count": null,
   "metadata": {},
   "outputs": [],
   "source": [
    "body_mass_min = min(df[\"Body mass (g)\"])\n",
    "body_mass_max = max(df[\"Body mass (g)\"])\n",
    "#print(B2B_min)\n",
    "#print(B2B_max)\n",
    "brain_mass_min = min(df[\"Brain mass (g)\"])\n",
    "brain_mass_max = max(df[\"Brain mass (g)\"])\n",
    "#print(C2B_min)\n",
    "#print(C2B_max)\n",
    "\n",
    "xx, yy = np.meshgrid(np.arange(body_mass_min - 0.05, body_mass_max + 0.05, 50),\n",
    "                         np.arange(brain_mass_min - 0.05, brain_mass_max + 0.05, 50))\n",
    "\n",
    "Z = clf.predict(np.c_[xx.ravel(), yy.ravel()])\n",
    "Z = Z.reshape(xx.shape)\n",
    "\n",
    "cs = plt.contourf(xx, yy, Z, cmap=plt.cm.RdYlBu)\n",
    "# label the axes\n",
    "\n",
    "\n",
    "# Plot the training points\n",
    "for i, color in zip(range(4), \"ryb\"):\n",
    "    idx = np.where(y == i)\n",
    "    plt.scatter(x[idx, 0], x[idx, 1], c=color, label=[\"Bird\", \"Dino\", \"Reptile\", \"Mammal\"][i],\n",
    "                cmap=plt.cm.RdYlBu, edgecolor='black', s=15)\n",
    "\n",
    "#ax.set_xlim(xx.min(), xx.max())\n",
    "#ax.set_ylim(yy.min(), yy.max())\n",
    "#ax.set_xticks(())\n",
    "\n",
    "plt.legend()\n",
    "plt.show() "
   ]
  },
  {
   "cell_type": "code",
   "execution_count": null,
   "metadata": {},
   "outputs": [],
   "source": []
  }
 ],
 "metadata": {
  "kernelspec": {
   "display_name": "Python 3",
   "language": "python",
   "name": "python3"
  },
  "language_info": {
   "codemirror_mode": {
    "name": "ipython",
    "version": 3
   },
   "file_extension": ".py",
   "mimetype": "text/x-python",
   "name": "python",
   "nbconvert_exporter": "python",
   "pygments_lexer": "ipython3",
   "version": "3.7.3"
  }
 },
 "nbformat": 4,
 "nbformat_minor": 2
}
