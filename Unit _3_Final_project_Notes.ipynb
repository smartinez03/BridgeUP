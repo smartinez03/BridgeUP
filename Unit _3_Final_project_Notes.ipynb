{
 "cells": [
  {
   "cell_type": "code",
   "execution_count": 1,
   "metadata": {},
   "outputs": [],
   "source": [
    "#open txt. as files and write the as strings\n",
    "\n",
    "PeccaryDNA= open(\"5b_mito_DNA.txt\").read()\n",
    "SheepDNA=open(\"5a_mito_DNA.txt\").read()\n",
    "BadgerDNA=open(\"5c_mito_DNA.txt\").read()\n"
   ]
  },
  {
   "cell_type": "code",
   "execution_count": 2,
   "metadata": {},
   "outputs": [
    {
     "name": "stdout",
     "output_type": "stream",
     "text": [
      "GTTAATGTAGCTTAAACAAATAAAGCAAAGCACTGAAAATGCTTAGATGAGTAAAGCCACTCCATAAACACACAGGTTTGGTCCTAGCCTTTCCATTTATTTTTAGTAAAATTACACATGCAAGTATCCGCACCCCAGTGAGAATGCCCTCTAAATCTTAAAGATTAAAAGGAGCAGGTATCAAGCACACCCCATGGTAGCTCACAACACCTTGCTCAACCACACCCCCACGGGACACAGCAGTGATAGAAATTAAGCTATGAACGAAAGTTTGACTAAGTTATATTAAATAGAGTTGGTAAATATCGTGCCAGCCACCGCGGTCATACGATTAACCCAAATAAATGGAATCACGGCGTAAAGAGTGTCTAAGAAAAAACCCACAATAGAGCCAAATTTCAACTAAGCCGTAAAAAGCCATAGCTGAAAAACAAATAAACTACGAAGGTAGCTCTAATATCTCCAATACACGATAGCTAGGACCCAAACTGGGATTAGATACCCCACTATGCCTAGCCCTAAACCTAAATAATCGACCAACAAGATTATTCGCCAGAGTACTACTAGCAACAGCCTAAAACTCAAAGGACTTGACGGTGCTTCATATCCATCTAGAGGAGCCTGTTCTGTAATCGATAAACCCCGATAAACCTCACCAACCCTTGCCAAATCAGCCTATATACCGCCATCTTCAGCAAACCCTAAAAAGGAACAACAGTAAGCACAACTATAATCTATAAAAACGTTAGGTCAAGGTGTAGCCTATGGGTTGGGAAGAAATGGGCTACATTTTCTATATAAGAATACTTACGAAAATTCTTATGAAACTAAGAATTAAAGGAGGATTTAGCAGTAAATTAAGAATAGAGTGCTTAATTGAATAAGGCCACAAAGCACGCACACACCGCCCGTCACCCTCCTCAAGTAAACGTAGCATGCAAAACCTATTACAAACAAAACCACACAAGAGGAGACAAGTCGTAACAAGGTAAGCATACTGGAAAGTGTGCTTGGACTACCAAAGTATAGCTTAAAT\n",
      "1036\n"
     ]
    }
   ],
   "source": [
    "print(PeccaryDNA)\n",
    "print(len(PeccaryDNA))"
   ]
  },
  {
   "cell_type": "code",
   "execution_count": 3,
   "metadata": {},
   "outputs": [
    {
     "name": "stdout",
     "output_type": "stream",
     "text": [
      "GTTAATGTAGCTTAAACTTAAAGCAAGGCACTGAAAATGCCTAGACGAGTCTACTGACTCCATGAACATATAGGTTTGGTCCCAGCCTTCCTGTTAACTTTCAATAGACTTATACATGCAAGCATCCACGCCCCGGTGAGTAACGCCCTTCAAATCACACAGGACTAAAAGGAGCAGGTATCAAGCACACACCCCTGTAGCTCACAACGCCTTGCTTAACCACACCCCCACGGGAGACAGCAGTAACAAAAATTAAGCCATAAACGAAAGTTTGACTAAGCCATATTGACTAGGGTTGGTAAATCTCGTGCCAGCCACCGCGGTCATACGATTGACCCAAGCTAACAGGAGTACGGCGTAAAGCGTGTTAAAGCACCATATCAAATAGAGTTAAATTTTAATTAAACTGTAAAAAGCCATAATTATAGCAAAAATAAATGATGAAAATAACCCTATAACAGCTGATACACTATAGCTAAGACCCAAACTGGGATTAGATACCCCACTATGCTTAGCCCTAAACACAAATAATTATAAAAACAAAATTATTCGCCAGAGTACTACCGGCAACAGCCCGAAACTCAAAGGACTTGGCGGTGCTTTATACCCTTCTAGAGGAGCCTGTTCTATAATCGATAAACCCCGATAAACCTCACCAATCCTTGCTAATACAGTCTATATACCGCCATCTTCAGCAAACCCTAAAAAAGGAACAAAAGTAAGCTCAATAATAATACATAAAGACGTTAGGTCAAGGTGTAACCTATGGAGTGGGAAGAAATGGGCTACATTTTCTACTCAAGAAAATTTAATACGAAAGCCATTATGAAATTAATAGCCAAAGGAGGATTTAGCAGTAAACTAAGAATAGAGTGCTTAGTTGAATTAGGCCATGAAGCACGCACACACCGCCCGTCACCCTCCTCAAGTAAATATGATATACTTAAACCTATTTATATATTAACCATACGAGAGGAGACAAGTCGTAACAAGGTAAGCATACTGGAAAGTGTGCTTGGACAAACCAAGATATAGCTTAATC\n",
      "1042\n"
     ]
    }
   ],
   "source": [
    "print(SheepDNA)\n",
    "print(len(SheepDNA))"
   ]
  },
  {
   "cell_type": "code",
   "execution_count": 4,
   "metadata": {},
   "outputs": [
    {
     "name": "stdout",
     "output_type": "stream",
     "text": [
      "GTTAGTGTAGCTTATAGATGTAAAGCAAGGCACTGAAAATGCCTAGAAGAGTCACAAGACTCCACAAACATAAAGGTTTGGTCCTAGCCTTCCTATTAGTTATTAGCAGAATTACACATGCAAGTTTCCGCATCCCAGTGAAAATGCCCTCTAAATCTCCAAATGATTAAAAGGAGCGGGTATCAAGCACACTAAACAAGTAGCTCACAACACCTTGCTCAACCACACCCCCACGGGATACAGCAGTGATAAAAATTAAGCCATAAACGAAAGTTTGACTAAGTCATGCTAACATTAGAGTTGGTAAATTTCGTGCCAGCCACCGCGGTCATACGATTAACCCAAATTAATAGGTCCCCGGCGTAAAACGTGTTAAGGACACCATAATACTAAAGTTAAAATTTAGCTAGGCCGTAAAAAGCTACCGCCAACATAAAATATGCCACGAAAGTGACTTTATTATTTCCGACAACACGATAGCTGAGACCCAAACTGGGATTAGATACCCCACTATGCTCAGCCCTAAACATAAATAATTCCAACAACAAAATTATCTGCCAGAGGACTACTAGCAATAGCCTAAAACTCAAAGGACTTGGCGGTGCTTTATATCCCTCTAGAGGAGCCTGTTCTATAATCGATAAACCCCGATAAACCTCACCACTTCTAGCTAAACCAGTTTATATACCGCCATCGTCAGCAAACCCTCAAAAGGAAGAAAAGTAAGCACAATAATATTACATAAAAAAGTTAGGTCAAGGTGTAACCAATGAAGTGGGAAGAAATGGGCTACATTTTCTAACCAAGACTAATACCTACGAAAGTTTATATGAAACCTACAAACTAAAGGTGGATTTAGTAGTAAATTAAGAATAGAGAGCTTAATTGAATAGGGCCATGAAGCACGCACACACCGCCCGTCACCCTCCTCAAACAACACACCAAAACATTACATAATACAAAACAAACCAACGCAAGAGGAGATAAGTCGTAACAAGGTAAGCACACTGGAAAGTGCGCTTGGATAAACCAAAGTGTAGCTTAACT\n",
      "1047\n"
     ]
    }
   ],
   "source": [
    "print(BadgerDNA)\n",
    "print(len(BadgerDNA))"
   ]
  },
  {
   "cell_type": "code",
   "execution_count": 5,
   "metadata": {},
   "outputs": [
    {
     "name": "stdout",
     "output_type": "stream",
     "text": [
      "CAAUUACAUCGAAUUUGAAUUUCGUUCCGUGACUUUUACGGAUCUGCUCAGAUGACUGAGGUACUUGUAUAUCCAAACCAGGGUCGGAAGGACAAUUGAAAGUUAUCUGAAUAUGUACGUUCGUAGGUGCGGGGCCACUCAUUGCGGGAAGUUUAGUGUGUCCUGAUUUUCCUCGUCCAUAGUUCGUGUGUGGGGACAUCGAGUGUUGCGGAACGAAUUGGUGUGGGGGUGCCCUCUGUCGUCAUUGUUUUUAAUUCGGUAUUUGCUUUCAAACUGAUUCGGUAUAACUGAUCCCAACCAUUUAGAGCACGGUCGGUGGCGCCAGUAUGCUAACUGGGUUCGAUUGUCCUCAUGCCGCAUUUCGCACAAUUUCGUGGUAUAGUUUAUCUCAAUUUAAAAUUAAUUUGACAUUUUUCGGUAUUAAUAUCGUUUUUAUUUACUACUUUUAUUGGGAUAUUGUCGACUAUGUGAUAUCGAUUCUGGGUUUGACCCUAAUCUAUGGGGUGAUACGAAUCGGGAUUUGUGUUUAUUAAUAUUUUUGUUUUAAUAAGCGGUCUCAUGAUGGCCGUUGUCGGGCUUUGAGUUUCCUGAACCGCCACGAAAUAUGGGAAGAUCUCCUCGGACAAGAUAUUAGCUAUUUGGGGCUAUUUGGAGUGGUUAGGAACGAUUAUGUCAGAUAUAUGGCGGUAGAAGUCGUUUGGGAUUUUUUCCUUGUUUUCAUUCGAGUUAUUAUUAUGUAUUUCUGCAAUCCAGUUCCACAUUGGAUACCUCACCCUUCUUUACCCGAUGUAAAAGAUGAGUUCUUUUAAAUUAUGCUUUCGGUAAUACUUUAAUUAUCGGUUUCCUCCUAAAUCGUCAUUUGAUUCUUAUCUCACGAAUCAACUUAAUCCGGUACUUCGUGCGUGUGUGGCGGGCAGUGGGAGGAGUUCAUUUAUACUAUAUGAAUUUGGAUAAAUAUAUAAUUGGUAUGCUCUCCUCUGUUCAGCAUUGUUCCAUUCGUAUGACCUUUCACACGAACCUGUUUGGUUCUAUAUCGAAUUAG\n"
     ]
    }
   ],
   "source": [
    "# Hint: You can copy and paste your transcription code\n",
    "Srna=\"\"\n",
    "for base in SheepDNA:\n",
    "    if base == \"C\":\n",
    "        Srna += \"G\"\n",
    "    elif base == \"G\":\n",
    "        Srna += \"C\"\n",
    "    elif base == \"A\":\n",
    "        Srna += \"U\"\n",
    "    elif base == \"T\":\n",
    "        Srna += \"A\"\n",
    "\n",
    "print(Srna)"
   ]
  },
  {
   "cell_type": "code",
   "execution_count": 6,
   "metadata": {},
   "outputs": [
    {
     "name": "stdout",
     "output_type": "stream",
     "text": [
      "CAAUCACAUCGAAUAUCUACAUUUCGUUCCGUGACUUUUACGGAUCUUCUCAGUGUUCUGAGGUGUUUGUAUUUCCAAACCAGGAUCGGAAGGAUAAUCAAUAAUCGUCUUAAUGUGUACGUUCAAAGGCGUAGGGUCACUUUUACGGGAGAUUUAGAGGUUUACUAAUUUUCCUCGCCCAUAGUUCGUGUGAUUUGUUCAUCGAGUGUUGUGGAACGAGUUGGUGUGGGGGUGCCCUAUGUCGUCACUAUUUUUAAUUCGGUAUUUGCUUUCAAACUGAUUCAGUACGAUUGUAAUCUCAACCAUUUAAAGCACGGUCGGUGGCGCCAGUAUGCUAAUUGGGUUUAAUUAUCCAGGGGCCGCAUUUUGCACAAUUCCUGUGGUAUUAUGAUUUCAAUUUUAAAUCGAUCCGGCAUUUUUCGAUGGCGGUUGUAUUUUAUACGGUGCUUUCACUGAAAUAAUAAAGGCUGUUGUGCUAUCGACUCUGGGUUUGACCCUAAUCUAUGGGGUGAUACGAGUCGGGAUUUGUAUUUAUUAAGGUUGUUGUUUUAAUAGACGGUCUCCUGAUGAUCGUUAUCGGAUUUUGAGUUUCCUGAACCGCCACGAAAUAUAGGGAGAUCUCCUCGGACAAGAUAUUAGCUAUUUGGGGCUAUUUGGAGUGGUGAAGAUCGAUUUGGUCAAAUAUAUGGCGGUAGCAGUCGUUUGGGAGUUUUCCUUCUUUUCAUUCGUGUUAUUAUAAUGUAUUUUUUCAAUCCAGUUCCACAUUGGUUACUUCACCCUUCUUUACCCGAUGUAAAAGAUUGGUUCUGAUUAUGGAUGCUUUCAAAUAUACUUUGGAUGUUUGAUUUCCACCUAAAUCAUCAUUUAAUUCUUAUCUCUCGAAUUAACUUAUCCCGGUACUUCGUGCGUGUGUGGCGGGCAGUGGGAGGAGUUUGUUGUGUGGUUUUGUAAUGUAUUAUGUUUUGUUUGGUUGCGUUCUCCUCUAUUCAGCAUUGUUCCAUUCGUGUGACCUUUCACGCGAACCUAUUUGGUUUCACAUCGAAUUGA\n"
     ]
    }
   ],
   "source": [
    "# Hint: You can copy and paste your transcription code\n",
    "Brna=\"\"\n",
    "for base in BadgerDNA:\n",
    "    if base == \"C\":\n",
    "        Brna += \"G\"\n",
    "    elif base == \"G\":\n",
    "        Brna += \"C\"\n",
    "    elif base == \"A\":\n",
    "        Brna += \"U\"\n",
    "    elif base == \"T\":\n",
    "        Brna += \"A\"\n",
    "\n",
    "print(Brna)"
   ]
  },
  {
   "cell_type": "code",
   "execution_count": 7,
   "metadata": {},
   "outputs": [
    {
     "name": "stdout",
     "output_type": "stream",
     "text": [
      "CAAUUACAUCGAAUUUGUUUAUUUCGUUUCGUGACUUUUACGAAUCUACUCAUUUCGGUGAGGUAUUUGUGUGUCCAAACCAGGAUCGGAAAGGUAAAUAAAAAUCAUUUUAAUGUGUACGUUCAUAGGCGUGGGGUCACUCUUACGGGAGAUUUAGAAUUUCUAAUUUUCCUCGUCCAUAGUUCGUGUGGGGUACCAUCGAGUGUUGUGGAACGAGUUGGUGUGGGGGUGCCCUGUGUCGUCACUAUCUUUAAUUCGAUACUUGCUUUCAAACUGAUUCAAUAUAAUUUAUCUCAACCAUUUAUAGCACGGUCGGUGGCGCCAGUAUGCUAAUUGGGUUUAUUUACCUUAGUGCCGCAUUUCUCACAGAUUCUUUUUUGGGUGUUAUCUCGGUUUAAAGUUGAUUCGGCAUUUUUCGGUAUCGACUUUUUGUUUAUUUGAUGCUUCCAUCGAGAUUAUAGAGGUUAUGUGCUAUCGAUCCUGGGUUUGACCCUAAUCUAUGGGGUGAUACGGAUCGGGAUUUGGAUUUAUUAGCUGGUUGUUCUAAUAAGCGGUCUCAUGAUGAUCGUUGUCGGAUUUUGAGUUUCCUGAACUGCCACGAAGUAUAGGUAGAUCUCCUCGGACAAGACAUUAGCUAUUUGGGGCUAUUUGGAGUGGUUGGGAACGGUUUAGUCGGAUAUAUGGCGGUAGAAGUCGUUUGGGAUUUUUCCUUGUUGUCAUUCGUGUUGAUAUUAGAUAUUUUUGCAAUCCAGUUCCACAUCGGAUACCCAACCCUUCUUUACCCGAUGUAAAAGAUAUAUUCUUAUGAAUGCUUUUAAGAAUACUUUGAUUCUUAAUUUCCUCCUAAAUCGUCAUUUAAUUCUUAUCUCACGAAUUAACUUAUUCCGGUGUUUCGUGCGUGUGUGGCGGGCAGUGGGAGGAGUUCAUUUGCAUCGUACGUUUUGGAUAAUGUUUGUUUUGGUGUGUUCUCCUCUGUUCAGCAUUGUUCCAUUCGUAUGACCUUUCACACGAACCUGAUGGUUUCAUAUCGAAUUUA\n"
     ]
    }
   ],
   "source": [
    "# Hint: You can copy and paste your transcription code\n",
    "Prna=\"\"\n",
    "for base in PeccaryDNA:\n",
    "    if base == \"C\":\n",
    "        Prna += \"G\"\n",
    "    elif base == \"G\":\n",
    "        Prna += \"C\"\n",
    "    elif base == \"A\":\n",
    "        Prna += \"U\"\n",
    "    elif base == \"T\":\n",
    "        Prna += \"A\"\n",
    "\n",
    "print(Prna)"
   ]
  },
  {
   "cell_type": "code",
   "execution_count": 8,
   "metadata": {},
   "outputs": [],
   "source": [
    "# Hint: You will need to use your translation code\n",
    "codonDict = {\"UUU\":\"F\",\"UUC\":\"F\",\"UUA\":\"L\",\"UUG\":\"L\", \"CUU\":\"L\",\"CUC\":\"L\", \n",
    "             \"CUA\":\"L\",\"CUG\":\"L\",\"AUU\":\"I\",\"AUC\":\"I\",\"AUA\":\"I\",\"AUG\":\"M\",\n",
    "             \"GUU\":\"V\",\"GUC\":\"V\",\"GUA\":\"V\",\"GUG\":\"V\",\"UCU\":\"S\",\"UCC\":\"S\",\n",
    "             \"UCA\":\"S\",\"UCG\":\"S\",\"CCU\":\"P\",\"CCC\":\"P\",\"CCA\":\"P\",\"CCG\":\"P\",\n",
    "             \"ACU\":\"T\",\"ACC\":\"T\",\"ACA\":\"T\",\"ACG\":\"T\",\"GCU\":\"A\",\"GCC\":\"A\",\n",
    "             \"GCA\":\"A\",\"GCG\":\"A\",\"UAU\":\"Y\",\"UAC\":\"Y\",\"UAA\":\"STOP\",\"UAG\":\"STOP\",\n",
    "             \"UGA\":\"STOP\",\"CAU\":\"H\",\"CAC\":\"H\",\"CAA\":\"Q\",\"CAG\":\"Q\",\"AAU\":\"N\",\n",
    "             \"AAC\":\"N\",\"AAA\":\"K\",\"AAG\":\"K\",\"GAU\":\"D\",\"GAC\":\"D\",\"GAA\":\"E\",\n",
    "             \"GAG\":\"E\",\"UGU\":\"C\",\"UGC\":\"C\",\"UGG\":\"W\",\"CGU\":\"R\",\"CGC\":\"R\",\n",
    "             \"CGA\":\"R\",\"CGG\":\"R\",\"AGU\":\"S\",\"AGC\":\"S\",\"AGA\":\"R\",\"AGG\":\"R\",\n",
    "             \"GGU\":\"G\",\"GGC\":\"G\",\"GGA\":\"G\",\"GGG\":\"G\"}"
   ]
  },
  {
   "cell_type": "code",
   "execution_count": 9,
   "metadata": {},
   "outputs": [
    {
     "name": "stdout",
     "output_type": "stream",
     "text": [
      "QLHRICLFRFVTFTNLLISVRYLCVQTRIGKVNKNHFNVYVHRRGVTLTGDLEFLIFLVHSSCGVPSSVVERVGVGVPCVVTIFNSILAFKLIQYNLSQPFIARSVAPVCSTOPLGLFTLVPHFSQILFWVLSRFKVDSAFFGIDFLFISTOPCFHRDYRGYVLSILGLTLIYGVIRIGIWIYSTOPLVVLISGLMMIVVGFSTOPVSSTOPTATKYRSTOPISSDKTLAIWGYLEWLGTVSTOPSDIWRSTOPKSFGIFPCCHSCSTOPYSTOPIFLQSSSTSDTQPFFTRCKRYILMNAFKNTLILNFLLNRHLILISRINLFRCFVRVWRAVGGVHLHRTFWIMFVLVCSPLFSIVPFVSTOPPFTRTSTOPWFHIEF\n",
      "381\n"
     ]
    }
   ],
   "source": [
    "proteinP = \"\"\n",
    "codon = \"\"\n",
    "for i in Prna:\n",
    "    if len(codon) == 3:\n",
    "        proteinP += codonDict[codon]\n",
    "        codon = \"\"\n",
    "        codon += i\n",
    "    else:\n",
    "        codon += i\n",
    "        \n",
    "print(proteinP)\n",
    "print(len(proteinP))"
   ]
  },
  {
   "cell_type": "code",
   "execution_count": 10,
   "metadata": {},
   "outputs": [
    {
     "name": "stdout",
     "output_type": "stream",
     "text": [
      "QLHRISTOPISFRDFYGSAQMTEVLVYPNQGRKDNSTOPKLSEYVRSSTOPVRGHSLREVSTOPCVLIFLVHSSCVGTSSVAERIGVGVPSVVIVFNSVFAFKLIRYNSTOPSQPFRARSVAPVCSTOPLGSIVLMPHFAQFRGIVYLNLKLISTOPHFSVLISFLFTTFIGILSTMSTOPYRFWVSTOPPSTOPSMGSTOPYESGFVFINIFVLISGLMMAVVGLSTOPVSSTOPTATKYGKISSDKILAIWGYLEWLGTIMSDIWRSTOPKSFGIFSLFSFELLLCISAIQFHIGYLTLLYPMSTOPKMSSFKLCFRSTOPYFNYRFPPKSSFDSYLTNQLNPVLRACVAGSGRSSFILYEFGSTOPIYNWYALLCSALFHSYDLSHEPVWFYIEL\n",
      "398\n"
     ]
    }
   ],
   "source": [
    "proteinS = \"\"\n",
    "codon = \"\"\n",
    "for i in Srna:\n",
    "    if len(codon) == 3:\n",
    "        proteinS += codonDict[codon]\n",
    "        codon = \"\"\n",
    "        codon += i\n",
    "    else:\n",
    "        codon += i\n",
    "        \n",
    "print(proteinS)\n",
    "print(len(proteinS))\n"
   ]
  },
  {
   "cell_type": "code",
   "execution_count": 11,
   "metadata": {},
   "outputs": [
    {
     "name": "stdout",
     "output_type": "stream",
     "text": [
      "QSHRISTFRSVTFTDLLSVLRCLYFQTRIGRIINNRLNVYVQRRRVTFTGDLEVYSTOPFSSPIVRVICSSSVVERVGVGVPYVVTIFNSVFAFKLIQYDCNLNHLKHGRWRQYANWVSTOPLSRGRILHNSCGIMISILNRSGIFRWRLYFIRCFHSTOPNNKGCCAIDSGFDPNLWGDTSRDLYLLRLLFSTOPSTOPTVSSTOPSTOPSLSDFEFPEPPRNIGRSPRTRYSTOPLFGAIWSGEDRFGQIYGGSSRLGVFLLFIRVIIMYFFNPVPHWLLHPSLPDVKDWFSTOPLWMLSNILWMFDFHLNHHLILISRINLSRYFVRVWRAVGGVCCVVLSTOPCIMFCLVAFSSIQHCSIRVTFHANLFGFTSN\n",
      "378\n"
     ]
    }
   ],
   "source": [
    "proteinB = \"\"\n",
    "codon = \"\"\n",
    "for i in Brna:\n",
    "    if len(codon) == 3:\n",
    "        proteinB += codonDict[codon]\n",
    "        codon = \"\"\n",
    "        codon += i\n",
    "    else:\n",
    "        codon += i\n",
    "        \n",
    "print(proteinB)\n",
    "print(len(proteinB))\n"
   ]
  },
  {
   "cell_type": "code",
   "execution_count": 12,
   "metadata": {},
   "outputs": [],
   "source": [
    "animal1=PeccaryDNA\n",
    "animal2=BadgerDNA\n",
    "longest = \"\"\n",
    "shortest = \"\"\n",
    "if len(animal1) < len(animal2):\n",
    "    shortest = animal1\n",
    "    longest = animal2\n",
    "else:\n",
    "    shortest = animal1\n",
    "    longest = animal2"
   ]
  },
  {
   "cell_type": "code",
   "execution_count": 13,
   "metadata": {},
   "outputs": [
    {
     "name": "stdout",
     "output_type": "stream",
     "text": [
      "62.6552053486151\n"
     ]
    }
   ],
   "source": [
    "dnadiff = 0\n",
    "for c, i in enumerate(shortest):\n",
    "    if i != longest[c]:\n",
    "        dnadiff += 1\n",
    "per_dif_AB = (dnadiff/len(longest))*100\n",
    "print(per_dif_AB)"
   ]
  },
  {
   "cell_type": "code",
   "execution_count": 14,
   "metadata": {},
   "outputs": [
    {
     "name": "stdout",
     "output_type": "stream",
     "text": [
      "there are 656 differences\n"
     ]
    }
   ],
   "source": [
    "d=0\n",
    "\n",
    "for c,i in enumerate(shortest):\n",
    "    if i!=longest[c]:\n",
    "        d+=1\n",
    "        \n",
    "print(\"there are\",d, \"differences\")"
   ]
  },
  {
   "cell_type": "code",
   "execution_count": 16,
   "metadata": {},
   "outputs": [],
   "source": [
    "# Hint, you will need the enumerate() function. You can use this in \"for loops\" that loop through strings or lists.\n",
    "# Remember, you must specify two variables in your \"for loop\": one for the index counter and one for the character.\n",
    "#d=0\n",
    "#ani1=PeccaryDNA\n",
    "#ani2=BadgerDNA\n",
    "#shortest=\"\"\n",
    "\n",
    "#if len(ani1)!=len(ani2):\n",
    "    \n",
    "    #for c,i in enumerate(ani1):\n",
    "            #if i!=ani2[c]:\n",
    "                #d+=1\n",
    "        \n",
    "#print(\"there are\",d, \"differences\")"
   ]
  },
  {
   "cell_type": "code",
   "execution_count": null,
   "metadata": {},
   "outputs": [],
   "source": []
  }
 ],
 "metadata": {
  "kernelspec": {
   "display_name": "Python 3",
   "language": "python",
   "name": "python3"
  },
  "language_info": {
   "codemirror_mode": {
    "name": "ipython",
    "version": 3
   },
   "file_extension": ".py",
   "mimetype": "text/x-python",
   "name": "python",
   "nbconvert_exporter": "python",
   "pygments_lexer": "ipython3",
   "version": "3.7.3"
  }
 },
 "nbformat": 4,
 "nbformat_minor": 2
}
