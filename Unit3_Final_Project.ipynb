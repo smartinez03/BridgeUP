{
 "cells": [
  {
   "cell_type": "code",
   "execution_count": 28,
   "metadata": {},
   "outputs": [],
   "source": [
    "#Open files and read as strings\n",
    "Sheep = open(\"5a_mito_DNA.txt\").read()\n",
    "Paccary = open(\"5b_mito_DNA.txt\").read()\n",
    "Badger = open(\"5c_mito_DNA.txt\").read()"
   ]
  },
  {
   "cell_type": "code",
   "execution_count": 44,
   "metadata": {},
   "outputs": [],
   "source": [
    "import matplotlib.pyplot as plt\n",
    "import numpy as np"
   ]
  },
  {
   "cell_type": "code",
   "execution_count": 45,
   "metadata": {},
   "outputs": [
    {
     "name": "stdout",
     "output_type": "stream",
     "text": [
      "1042\n",
      "1036\n",
      "1047\n"
     ]
    }
   ],
   "source": [
    "#Find the length of the dna sequences\n",
    "print(len(SheepDNA))\n",
    "print(len(PaccaryDNA))\n",
    "print(len(BadgerDNA))"
   ]
  },
  {
   "cell_type": "code",
   "execution_count": 46,
   "metadata": {},
   "outputs": [],
   "source": [
    "#takes in two sequences and returns the shortest sequence\n",
    "def shortest(seq1, seq2):\n",
    "    shortest = \"\"\n",
    "    if len(seq1) < len(seq2):\n",
    "        shortest = seq1\n",
    "    else:\n",
    "        shortest = seq2\n",
    "    return shortest"
   ]
  },
  {
   "cell_type": "code",
   "execution_count": 47,
   "metadata": {},
   "outputs": [],
   "source": [
    "#takes in two sequences and returns the shortest sequence\n",
    "def longest(seq1, seq2):\n",
    "    longest = \"\"\n",
    "    if len(seq1) > len(seq2):\n",
    "        longest = seq1\n",
    "    else:\n",
    "        longest = seq2\n",
    "    return longest"
   ]
  },
  {
   "cell_type": "code",
   "execution_count": 48,
   "metadata": {},
   "outputs": [],
   "source": [
    "#takes in two sequences and returns the difference (in percent)\n",
    "def seq_dif(seqa, seqb):\n",
    "    diff = 0\n",
    "    short = shortest(seqa, seqb)\n",
    "    long = \"\"\n",
    "    if short != seqa:\n",
    "        long = seqa\n",
    "    else:\n",
    "        long = seqb\n",
    "    for c, i in enumerate(short):\n",
    "        if i != long[c]:\n",
    "            diff += 1\n",
    "    per_dif = (diff/len(short))*100\n",
    "    return per_dif"
   ]
  },
  {
   "cell_type": "code",
   "execution_count": 49,
   "metadata": {},
   "outputs": [],
   "source": [
    "#this function returns the difference but needs both longest and shortest function\n",
    "def compare(seqA, seqB):\n",
    "    diff = 0\n",
    "    shortSeq = shortest(seqA, seqB)\n",
    "    longSeq = longest(seqA, seqB)\n",
    "    for c, i in enumerate(shortSeq):\n",
    "        if i != longSeq[c]:\n",
    "            diff += 1\n",
    "    per_diff = (diff/len(shortSeq))*100\n",
    "    return per_diff"
   ]
  },
  {
   "cell_type": "code",
   "execution_count": 50,
   "metadata": {},
   "outputs": [],
   "source": [
    "#takes in the dna and returns the rna\n",
    "def transcribe(dna):\n",
    "    rna = \"\"\n",
    "    for i in dna:\n",
    "        if i == \"A\":\n",
    "            rna+=\"U\"\n",
    "        elif i == \"T\":\n",
    "            rna+=\"A\"\n",
    "        elif i == \"G\":\n",
    "            rna+=\"C\"\n",
    "        elif i == \"C\":\n",
    "            rna+=\"G\"\n",
    "    return rna"
   ]
  },
  {
   "cell_type": "code",
   "execution_count": 51,
   "metadata": {},
   "outputs": [],
   "source": [
    "\n",
    "def translation(rna):\n",
    "    codonDict = {\"UUU\":\"F\",\"UUC\":\"F\",\"UUA\":\"L\",\"UUG\":\"L\", \"CUU\":\"L\",\"CUC\":\"L\", \n",
    "             \"CUA\":\"L\",\"CUG\":\"L\",\"AUU\":\"I\",\"AUC\":\"I\",\"AUA\":\"I\",\"AUG\":\"M\",\n",
    "             \"GUU\":\"V\",\"GUC\":\"V\",\"GUA\":\"V\",\"GUG\":\"V\",\"UCU\":\"S\",\"UCC\":\"S\",\n",
    "             \"UCA\":\"S\",\"UCG\":\"S\",\"CCU\":\"P\",\"CCC\":\"P\",\"CCA\":\"P\",\"CCG\":\"P\",\n",
    "             \"ACU\":\"T\",\"ACC\":\"T\",\"ACA\":\"T\",\"ACG\":\"T\",\"GCU\":\"A\",\"GCC\":\"A\",\n",
    "             \"GCA\":\"A\",\"GCG\":\"A\",\"UAU\":\"Y\",\"UAC\":\"Y\",\"UAA\":\"STOP\",\"UAG\":\"STOP\",\n",
    "             \"UGA\":\"STOP\",\"CAU\":\"H\",\"CAC\":\"H\",\"CAA\":\"Q\",\"CAG\":\"Q\",\"AAU\":\"N\",\n",
    "             \"AAC\":\"N\",\"AAA\":\"K\",\"AAG\":\"K\",\"GAU\":\"D\",\"GAC\":\"D\",\"GAA\":\"E\",\n",
    "             \"GAG\":\"E\",\"UGU\":\"C\",\"UGC\":\"C\",\"UGG\":\"W\",\"CGU\":\"R\",\"CGC\":\"R\",\n",
    "             \"CGA\":\"R\",\"CGG\":\"R\",\"AGU\":\"S\",\"AGC\":\"S\",\"AGA\":\"R\",\"AGG\":\"R\",\n",
    "             \"GGU\":\"G\",\"GGC\":\"G\",\"GGA\":\"G\",\"GGG\":\"G\"}\n",
    "    \n",
    "    protein = \"\"\n",
    "    codon = \"\"\n",
    "\n",
    "    for i in rna:\n",
    "        if len(codon) != 3:\n",
    "            codon += i\n",
    "        if len(codon) == 3:\n",
    "            protein += codonDict[codon]\n",
    "            codon = \"\"\n",
    "    return protein"
   ]
  },
  {
   "cell_type": "code",
   "execution_count": 61,
   "metadata": {},
   "outputs": [
    {
     "data": {
      "text/plain": [
       "Text(0, 0.5, 'Percentage')"
      ]
     },
     "execution_count": 61,
     "metadata": {},
     "output_type": "execute_result"
    },
    {
     "data": {
      "image/png": "[encoded data removed]",
      "text/plain": [
       "<Figure size 432x288 with 1 Axes>"
      ]
     },
     "metadata": {
      "needs_background": "light"
     },
     "output_type": "display_data"
    }
   ],
   "source": [
    "Species= [\"Sheep+Paccary\",\"Paccary+Badger\",\"Badger+Sheep\"]\n",
    "Percentage=[compare(Sheep,Paccary), compare(Paccary,Badger),compare(Sheep,Badger)]\n",
    "plt.bar(Species,Percentage, color=\"purple\",)\n",
    "plt.title(\"Percent Difference DNA\")\n",
    "plt.xlabel(\"Species\")\n",
    "plt.ylabel(\"Percentage\")\n"
   ]
  }
 ],
 "metadata": {
  "kernelspec": {
   "display_name": "Python 3",
   "language": "python",
   "name": "python3"
  },
  "language_info": {
   "codemirror_mode": {
    "name": "ipython",
    "version": 3
   },
   "file_extension": ".py",
   "mimetype": "text/x-python",
   "name": "python",
   "nbconvert_exporter": "python",
   "pygments_lexer": "ipython3",
   "version": "3.7.3"
  }
 },
 "nbformat": 4,
 "nbformat_minor": 2
}
