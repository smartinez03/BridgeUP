{
 "cells": [
  {
   "cell_type": "code",
   "execution_count": 1,
   "metadata": {},
   "outputs": [],
   "source": [
    "import pandas as pd\n",
    "import matplotlib.pyplot as plt\n",
    "import numpy as np"
   ]
  },
  {
   "cell_type": "code",
   "execution_count": 2,
   "metadata": {},
   "outputs": [],
   "source": [
    "unknown_femur = 295\n",
    "unknown_brain_vol = 25"
   ]
  },
  {
   "cell_type": "code",
   "execution_count": 3,
   "metadata": {},
   "outputs": [],
   "source": [
    "df = pd.read_csv(\"bird_dino_data.csv\")"
   ]
  },
  {
   "cell_type": "code",
   "execution_count": 4,
   "metadata": {},
   "outputs": [
    {
     "data": {
      "text/html": [
       "<div>\n",
       "<style scoped>\n",
       "    .dataframe tbody tr th:only-of-type {\n",
       "        vertical-align: middle;\n",
       "    }\n",
       "\n",
       "    .dataframe tbody tr th {\n",
       "        vertical-align: top;\n",
       "    }\n",
       "\n",
       "    .dataframe thead th {\n",
       "        text-align: right;\n",
       "    }\n",
       "</style>\n",
       "<table border=\"1\" class=\"dataframe\">\n",
       "  <thead>\n",
       "    <tr style=\"text-align: right;\">\n",
       "      <th></th>\n",
       "      <th>Species ID</th>\n",
       "      <th>Bird vs Dino</th>\n",
       "      <th>Body Mass (kg)</th>\n",
       "      <th>Olfactory bulbs (cm3)</th>\n",
       "      <th>Cerebrum (cm3)</th>\n",
       "      <th>Optic Lobes (cm3)</th>\n",
       "      <th>Cerebellum (cm3)</th>\n",
       "      <th>Brain Stem (cm3)</th>\n",
       "    </tr>\n",
       "  </thead>\n",
       "  <tbody>\n",
       "    <tr>\n",
       "      <th>0</th>\n",
       "      <td>1</td>\n",
       "      <td>B</td>\n",
       "      <td>0.02</td>\n",
       "      <td>0.009</td>\n",
       "      <td>1.53</td>\n",
       "      <td>0.20</td>\n",
       "      <td>0.16</td>\n",
       "      <td>0.06</td>\n",
       "    </tr>\n",
       "    <tr>\n",
       "      <th>1</th>\n",
       "      <td>2</td>\n",
       "      <td>B</td>\n",
       "      <td>1.26</td>\n",
       "      <td>0.006</td>\n",
       "      <td>16.81</td>\n",
       "      <td>2.84</td>\n",
       "      <td>1.70</td>\n",
       "      <td>0.68</td>\n",
       "    </tr>\n",
       "    <tr>\n",
       "      <th>2</th>\n",
       "      <td>3</td>\n",
       "      <td>B</td>\n",
       "      <td>2.18</td>\n",
       "      <td>0.026</td>\n",
       "      <td>11.08</td>\n",
       "      <td>1.95</td>\n",
       "      <td>0.89</td>\n",
       "      <td>1.15</td>\n",
       "    </tr>\n",
       "    <tr>\n",
       "      <th>3</th>\n",
       "      <td>4</td>\n",
       "      <td>D</td>\n",
       "      <td>0.25</td>\n",
       "      <td>0.050</td>\n",
       "      <td>0.41</td>\n",
       "      <td>0.16</td>\n",
       "      <td>0.09</td>\n",
       "      <td>0.12</td>\n",
       "    </tr>\n",
       "    <tr>\n",
       "      <th>4</th>\n",
       "      <td>5</td>\n",
       "      <td>B</td>\n",
       "      <td>0.01</td>\n",
       "      <td>0.003</td>\n",
       "      <td>1.57</td>\n",
       "      <td>0.20</td>\n",
       "      <td>0.34</td>\n",
       "      <td>0.08</td>\n",
       "    </tr>\n",
       "  </tbody>\n",
       "</table>\n",
       "</div>"
      ],
      "text/plain": [
       "   Species ID Bird vs Dino  Body Mass (kg)  Olfactory bulbs (cm3)  \\\n",
       "0           1            B            0.02                  0.009   \n",
       "1           2            B            1.26                  0.006   \n",
       "2           3            B            2.18                  0.026   \n",
       "3           4            D            0.25                  0.050   \n",
       "4           5            B            0.01                  0.003   \n",
       "\n",
       "   Cerebrum (cm3)  Optic Lobes (cm3)  Cerebellum (cm3)  Brain Stem (cm3)  \n",
       "0            1.53               0.20              0.16              0.06  \n",
       "1           16.81               2.84              1.70              0.68  \n",
       "2           11.08               1.95              0.89              1.15  \n",
       "3            0.41               0.16              0.09              0.12  \n",
       "4            1.57               0.20              0.34              0.08  "
      ]
     },
     "execution_count": 4,
     "metadata": {},
     "output_type": "execute_result"
    }
   ],
   "source": [
    "df.head()"
   ]
  },
  {
   "cell_type": "code",
   "execution_count": 5,
   "metadata": {},
   "outputs": [],
   "source": [
    "df[\"Whole Brain (cm3)\"] = df[\"Olfactory bulbs (cm3)\"]+df[\"Cerebrum (cm3)\"]+df[\"Optic Lobes (cm3)\"]+df[\"Cerebellum (cm3)\"]"
   ]
  },
  {
   "cell_type": "code",
   "execution_count": 6,
   "metadata": {},
   "outputs": [
    {
     "data": {
      "text/plain": [
       "0      1.899\n",
       "1     21.356\n",
       "2     13.946\n",
       "3      0.710\n",
       "4      2.113\n",
       "5     18.849\n",
       "6      1.277\n",
       "7      8.134\n",
       "8     11.417\n",
       "9      6.648\n",
       "10     8.605\n",
       "11    13.496\n",
       "12     2.308\n",
       "13    51.184\n",
       "14    23.800\n",
       "15     1.033\n",
       "16     9.101\n",
       "17     3.720\n",
       "18     0.816\n",
       "19     2.662\n",
       "20    10.749\n",
       "21     2.771\n",
       "22     6.225\n",
       "23     7.116\n",
       "24    16.612\n",
       "Name: Whole Brain (cm3), dtype: float64"
      ]
     },
     "execution_count": 6,
     "metadata": {},
     "output_type": "execute_result"
    }
   ],
   "source": [
    "df[\"Whole Brain (cm3)\"]"
   ]
  },
  {
   "cell_type": "code",
   "execution_count": 7,
   "metadata": {},
   "outputs": [],
   "source": [
    "df[\"Brain to Body Mass Ratio (cm3)\"] = df[\"Whole Brain (cm3)\"]/(df[\"Body Mass (kg)\"]*1000)"
   ]
  },
  {
   "cell_type": "code",
   "execution_count": null,
   "metadata": {},
   "outputs": [],
   "source": []
  },
  {
   "cell_type": "code",
   "execution_count": 8,
   "metadata": {},
   "outputs": [
    {
     "data": {
      "text/html": [
       "<div>\n",
       "<style scoped>\n",
       "    .dataframe tbody tr th:only-of-type {\n",
       "        vertical-align: middle;\n",
       "    }\n",
       "\n",
       "    .dataframe tbody tr th {\n",
       "        vertical-align: top;\n",
       "    }\n",
       "\n",
       "    .dataframe thead th {\n",
       "        text-align: right;\n",
       "    }\n",
       "</style>\n",
       "<table border=\"1\" class=\"dataframe\">\n",
       "  <thead>\n",
       "    <tr style=\"text-align: right;\">\n",
       "      <th></th>\n",
       "      <th>Species ID</th>\n",
       "      <th>Bird vs Dino</th>\n",
       "      <th>Body Mass (kg)</th>\n",
       "      <th>Olfactory bulbs (cm3)</th>\n",
       "      <th>Cerebrum (cm3)</th>\n",
       "      <th>Optic Lobes (cm3)</th>\n",
       "      <th>Cerebellum (cm3)</th>\n",
       "      <th>Brain Stem (cm3)</th>\n",
       "      <th>Whole Brain (cm3)</th>\n",
       "      <th>Brain to Body Mass Ratio (cm3)</th>\n",
       "    </tr>\n",
       "  </thead>\n",
       "  <tbody>\n",
       "    <tr>\n",
       "      <th>0</th>\n",
       "      <td>1</td>\n",
       "      <td>B</td>\n",
       "      <td>0.02</td>\n",
       "      <td>0.009</td>\n",
       "      <td>1.53</td>\n",
       "      <td>0.20</td>\n",
       "      <td>0.16</td>\n",
       "      <td>0.06</td>\n",
       "      <td>1.899</td>\n",
       "      <td>0.094950</td>\n",
       "    </tr>\n",
       "    <tr>\n",
       "      <th>1</th>\n",
       "      <td>2</td>\n",
       "      <td>B</td>\n",
       "      <td>1.26</td>\n",
       "      <td>0.006</td>\n",
       "      <td>16.81</td>\n",
       "      <td>2.84</td>\n",
       "      <td>1.70</td>\n",
       "      <td>0.68</td>\n",
       "      <td>21.356</td>\n",
       "      <td>0.016949</td>\n",
       "    </tr>\n",
       "    <tr>\n",
       "      <th>2</th>\n",
       "      <td>3</td>\n",
       "      <td>B</td>\n",
       "      <td>2.18</td>\n",
       "      <td>0.026</td>\n",
       "      <td>11.08</td>\n",
       "      <td>1.95</td>\n",
       "      <td>0.89</td>\n",
       "      <td>1.15</td>\n",
       "      <td>13.946</td>\n",
       "      <td>0.006397</td>\n",
       "    </tr>\n",
       "    <tr>\n",
       "      <th>3</th>\n",
       "      <td>4</td>\n",
       "      <td>D</td>\n",
       "      <td>0.25</td>\n",
       "      <td>0.050</td>\n",
       "      <td>0.41</td>\n",
       "      <td>0.16</td>\n",
       "      <td>0.09</td>\n",
       "      <td>0.12</td>\n",
       "      <td>0.710</td>\n",
       "      <td>0.002840</td>\n",
       "    </tr>\n",
       "    <tr>\n",
       "      <th>4</th>\n",
       "      <td>5</td>\n",
       "      <td>B</td>\n",
       "      <td>0.01</td>\n",
       "      <td>0.003</td>\n",
       "      <td>1.57</td>\n",
       "      <td>0.20</td>\n",
       "      <td>0.34</td>\n",
       "      <td>0.08</td>\n",
       "      <td>2.113</td>\n",
       "      <td>0.211300</td>\n",
       "    </tr>\n",
       "  </tbody>\n",
       "</table>\n",
       "</div>"
      ],
      "text/plain": [
       "   Species ID Bird vs Dino  Body Mass (kg)  Olfactory bulbs (cm3)  \\\n",
       "0           1            B            0.02                  0.009   \n",
       "1           2            B            1.26                  0.006   \n",
       "2           3            B            2.18                  0.026   \n",
       "3           4            D            0.25                  0.050   \n",
       "4           5            B            0.01                  0.003   \n",
       "\n",
       "   Cerebrum (cm3)  Optic Lobes (cm3)  Cerebellum (cm3)  Brain Stem (cm3)  \\\n",
       "0            1.53               0.20              0.16              0.06   \n",
       "1           16.81               2.84              1.70              0.68   \n",
       "2           11.08               1.95              0.89              1.15   \n",
       "3            0.41               0.16              0.09              0.12   \n",
       "4            1.57               0.20              0.34              0.08   \n",
       "\n",
       "   Whole Brain (cm3)  Brain to Body Mass Ratio (cm3)  \n",
       "0              1.899                        0.094950  \n",
       "1             21.356                        0.016949  \n",
       "2             13.946                        0.006397  \n",
       "3              0.710                        0.002840  \n",
       "4              2.113                        0.211300  "
      ]
     },
     "execution_count": 8,
     "metadata": {},
     "output_type": "execute_result"
    }
   ],
   "source": [
    "df.head()"
   ]
  },
  {
   "cell_type": "code",
   "execution_count": 9,
   "metadata": {},
   "outputs": [
    {
     "data": {
      "text/html": [
       "<div>\n",
       "<style scoped>\n",
       "    .dataframe tbody tr th:only-of-type {\n",
       "        vertical-align: middle;\n",
       "    }\n",
       "\n",
       "    .dataframe tbody tr th {\n",
       "        vertical-align: top;\n",
       "    }\n",
       "\n",
       "    .dataframe thead th {\n",
       "        text-align: right;\n",
       "    }\n",
       "</style>\n",
       "<table border=\"1\" class=\"dataframe\">\n",
       "  <thead>\n",
       "    <tr style=\"text-align: right;\">\n",
       "      <th></th>\n",
       "      <th>Species ID</th>\n",
       "      <th>Bird vs Dino</th>\n",
       "      <th>Body Mass (kg)</th>\n",
       "      <th>Olfactory bulbs (cm3)</th>\n",
       "      <th>Cerebrum (cm3)</th>\n",
       "      <th>Optic Lobes (cm3)</th>\n",
       "      <th>Cerebellum (cm3)</th>\n",
       "      <th>Brain Stem (cm3)</th>\n",
       "      <th>Whole Brain (cm3)</th>\n",
       "      <th>Brain to Body Mass Ratio (cm3)</th>\n",
       "    </tr>\n",
       "  </thead>\n",
       "  <tbody>\n",
       "    <tr>\n",
       "      <th>4</th>\n",
       "      <td>5</td>\n",
       "      <td>B</td>\n",
       "      <td>0.01</td>\n",
       "      <td>0.003</td>\n",
       "      <td>1.57</td>\n",
       "      <td>0.20</td>\n",
       "      <td>0.34</td>\n",
       "      <td>0.08</td>\n",
       "      <td>2.113</td>\n",
       "      <td>0.211300</td>\n",
       "    </tr>\n",
       "    <tr>\n",
       "      <th>17</th>\n",
       "      <td>18</td>\n",
       "      <td>B</td>\n",
       "      <td>0.03</td>\n",
       "      <td>0.010</td>\n",
       "      <td>2.22</td>\n",
       "      <td>0.73</td>\n",
       "      <td>0.76</td>\n",
       "      <td>0.29</td>\n",
       "      <td>3.720</td>\n",
       "      <td>0.124000</td>\n",
       "    </tr>\n",
       "    <tr>\n",
       "      <th>0</th>\n",
       "      <td>1</td>\n",
       "      <td>B</td>\n",
       "      <td>0.02</td>\n",
       "      <td>0.009</td>\n",
       "      <td>1.53</td>\n",
       "      <td>0.20</td>\n",
       "      <td>0.16</td>\n",
       "      <td>0.06</td>\n",
       "      <td>1.899</td>\n",
       "      <td>0.094950</td>\n",
       "    </tr>\n",
       "    <tr>\n",
       "      <th>18</th>\n",
       "      <td>19</td>\n",
       "      <td>B</td>\n",
       "      <td>0.01</td>\n",
       "      <td>0.006</td>\n",
       "      <td>0.46</td>\n",
       "      <td>0.24</td>\n",
       "      <td>0.11</td>\n",
       "      <td>0.06</td>\n",
       "      <td>0.816</td>\n",
       "      <td>0.081600</td>\n",
       "    </tr>\n",
       "    <tr>\n",
       "      <th>10</th>\n",
       "      <td>11</td>\n",
       "      <td>B</td>\n",
       "      <td>0.17</td>\n",
       "      <td>0.015</td>\n",
       "      <td>6.09</td>\n",
       "      <td>0.88</td>\n",
       "      <td>1.62</td>\n",
       "      <td>0.49</td>\n",
       "      <td>8.605</td>\n",
       "      <td>0.050618</td>\n",
       "    </tr>\n",
       "    <tr>\n",
       "      <th>12</th>\n",
       "      <td>13</td>\n",
       "      <td>B</td>\n",
       "      <td>0.05</td>\n",
       "      <td>0.008</td>\n",
       "      <td>1.63</td>\n",
       "      <td>0.41</td>\n",
       "      <td>0.26</td>\n",
       "      <td>0.17</td>\n",
       "      <td>2.308</td>\n",
       "      <td>0.046160</td>\n",
       "    </tr>\n",
       "    <tr>\n",
       "      <th>8</th>\n",
       "      <td>9</td>\n",
       "      <td>B</td>\n",
       "      <td>0.26</td>\n",
       "      <td>0.027</td>\n",
       "      <td>8.36</td>\n",
       "      <td>1.40</td>\n",
       "      <td>1.63</td>\n",
       "      <td>0.86</td>\n",
       "      <td>11.417</td>\n",
       "      <td>0.043912</td>\n",
       "    </tr>\n",
       "    <tr>\n",
       "      <th>22</th>\n",
       "      <td>23</td>\n",
       "      <td>B</td>\n",
       "      <td>0.17</td>\n",
       "      <td>0.055</td>\n",
       "      <td>4.69</td>\n",
       "      <td>0.95</td>\n",
       "      <td>0.53</td>\n",
       "      <td>0.53</td>\n",
       "      <td>6.225</td>\n",
       "      <td>0.036618</td>\n",
       "    </tr>\n",
       "    <tr>\n",
       "      <th>11</th>\n",
       "      <td>12</td>\n",
       "      <td>B</td>\n",
       "      <td>0.43</td>\n",
       "      <td>0.206</td>\n",
       "      <td>9.45</td>\n",
       "      <td>1.44</td>\n",
       "      <td>2.40</td>\n",
       "      <td>0.85</td>\n",
       "      <td>13.496</td>\n",
       "      <td>0.031386</td>\n",
       "    </tr>\n",
       "    <tr>\n",
       "      <th>16</th>\n",
       "      <td>17</td>\n",
       "      <td>B</td>\n",
       "      <td>0.30</td>\n",
       "      <td>0.041</td>\n",
       "      <td>5.50</td>\n",
       "      <td>1.62</td>\n",
       "      <td>1.94</td>\n",
       "      <td>0.77</td>\n",
       "      <td>9.101</td>\n",
       "      <td>0.030337</td>\n",
       "    </tr>\n",
       "    <tr>\n",
       "      <th>1</th>\n",
       "      <td>2</td>\n",
       "      <td>B</td>\n",
       "      <td>1.26</td>\n",
       "      <td>0.006</td>\n",
       "      <td>16.81</td>\n",
       "      <td>2.84</td>\n",
       "      <td>1.70</td>\n",
       "      <td>0.68</td>\n",
       "      <td>21.356</td>\n",
       "      <td>0.016949</td>\n",
       "    </tr>\n",
       "    <tr>\n",
       "      <th>15</th>\n",
       "      <td>16</td>\n",
       "      <td>B</td>\n",
       "      <td>0.10</td>\n",
       "      <td>0.003</td>\n",
       "      <td>0.63</td>\n",
       "      <td>0.27</td>\n",
       "      <td>0.13</td>\n",
       "      <td>0.07</td>\n",
       "      <td>1.033</td>\n",
       "      <td>0.010330</td>\n",
       "    </tr>\n",
       "    <tr>\n",
       "      <th>7</th>\n",
       "      <td>8</td>\n",
       "      <td>B</td>\n",
       "      <td>0.90</td>\n",
       "      <td>0.234</td>\n",
       "      <td>5.95</td>\n",
       "      <td>0.99</td>\n",
       "      <td>0.96</td>\n",
       "      <td>0.55</td>\n",
       "      <td>8.134</td>\n",
       "      <td>0.009038</td>\n",
       "    </tr>\n",
       "    <tr>\n",
       "      <th>24</th>\n",
       "      <td>25</td>\n",
       "      <td>B</td>\n",
       "      <td>2.06</td>\n",
       "      <td>0.032</td>\n",
       "      <td>12.24</td>\n",
       "      <td>2.16</td>\n",
       "      <td>2.18</td>\n",
       "      <td>1.07</td>\n",
       "      <td>16.612</td>\n",
       "      <td>0.008064</td>\n",
       "    </tr>\n",
       "    <tr>\n",
       "      <th>2</th>\n",
       "      <td>3</td>\n",
       "      <td>B</td>\n",
       "      <td>2.18</td>\n",
       "      <td>0.026</td>\n",
       "      <td>11.08</td>\n",
       "      <td>1.95</td>\n",
       "      <td>0.89</td>\n",
       "      <td>1.15</td>\n",
       "      <td>13.946</td>\n",
       "      <td>0.006397</td>\n",
       "    </tr>\n",
       "    <tr>\n",
       "      <th>23</th>\n",
       "      <td>24</td>\n",
       "      <td>B</td>\n",
       "      <td>1.20</td>\n",
       "      <td>0.036</td>\n",
       "      <td>5.18</td>\n",
       "      <td>0.90</td>\n",
       "      <td>1.00</td>\n",
       "      <td>0.58</td>\n",
       "      <td>7.116</td>\n",
       "      <td>0.005930</td>\n",
       "    </tr>\n",
       "    <tr>\n",
       "      <th>20</th>\n",
       "      <td>21</td>\n",
       "      <td>B</td>\n",
       "      <td>2.33</td>\n",
       "      <td>0.009</td>\n",
       "      <td>8.05</td>\n",
       "      <td>1.07</td>\n",
       "      <td>1.62</td>\n",
       "      <td>0.68</td>\n",
       "      <td>10.749</td>\n",
       "      <td>0.004613</td>\n",
       "    </tr>\n",
       "    <tr>\n",
       "      <th>21</th>\n",
       "      <td>22</td>\n",
       "      <td>D</td>\n",
       "      <td>0.92</td>\n",
       "      <td>0.021</td>\n",
       "      <td>1.38</td>\n",
       "      <td>0.87</td>\n",
       "      <td>0.50</td>\n",
       "      <td>0.33</td>\n",
       "      <td>2.771</td>\n",
       "      <td>0.003012</td>\n",
       "    </tr>\n",
       "    <tr>\n",
       "      <th>3</th>\n",
       "      <td>4</td>\n",
       "      <td>D</td>\n",
       "      <td>0.25</td>\n",
       "      <td>0.050</td>\n",
       "      <td>0.41</td>\n",
       "      <td>0.16</td>\n",
       "      <td>0.09</td>\n",
       "      <td>0.12</td>\n",
       "      <td>0.710</td>\n",
       "      <td>0.002840</td>\n",
       "    </tr>\n",
       "    <tr>\n",
       "      <th>6</th>\n",
       "      <td>7</td>\n",
       "      <td>D</td>\n",
       "      <td>0.50</td>\n",
       "      <td>0.077</td>\n",
       "      <td>0.60</td>\n",
       "      <td>0.36</td>\n",
       "      <td>0.24</td>\n",
       "      <td>0.17</td>\n",
       "      <td>1.277</td>\n",
       "      <td>0.002554</td>\n",
       "    </tr>\n",
       "    <tr>\n",
       "      <th>13</th>\n",
       "      <td>14</td>\n",
       "      <td>B</td>\n",
       "      <td>59.30</td>\n",
       "      <td>0.274</td>\n",
       "      <td>36.85</td>\n",
       "      <td>7.61</td>\n",
       "      <td>6.45</td>\n",
       "      <td>5.13</td>\n",
       "      <td>51.184</td>\n",
       "      <td>0.000863</td>\n",
       "    </tr>\n",
       "    <tr>\n",
       "      <th>9</th>\n",
       "      <td>10</td>\n",
       "      <td>D</td>\n",
       "      <td>12.61</td>\n",
       "      <td>0.028</td>\n",
       "      <td>3.71</td>\n",
       "      <td>1.31</td>\n",
       "      <td>1.60</td>\n",
       "      <td>2.17</td>\n",
       "      <td>6.648</td>\n",
       "      <td>0.000527</td>\n",
       "    </tr>\n",
       "    <tr>\n",
       "      <th>14</th>\n",
       "      <td>15</td>\n",
       "      <td>D</td>\n",
       "      <td>49.30</td>\n",
       "      <td>1.080</td>\n",
       "      <td>14.81</td>\n",
       "      <td>4.75</td>\n",
       "      <td>3.16</td>\n",
       "      <td>2.35</td>\n",
       "      <td>23.800</td>\n",
       "      <td>0.000483</td>\n",
       "    </tr>\n",
       "    <tr>\n",
       "      <th>5</th>\n",
       "      <td>6</td>\n",
       "      <td>D</td>\n",
       "      <td>85.96</td>\n",
       "      <td>0.569</td>\n",
       "      <td>9.52</td>\n",
       "      <td>3.60</td>\n",
       "      <td>5.16</td>\n",
       "      <td>3.78</td>\n",
       "      <td>18.849</td>\n",
       "      <td>0.000219</td>\n",
       "    </tr>\n",
       "    <tr>\n",
       "      <th>19</th>\n",
       "      <td>20</td>\n",
       "      <td>D</td>\n",
       "      <td>15.95</td>\n",
       "      <td>0.042</td>\n",
       "      <td>1.61</td>\n",
       "      <td>0.70</td>\n",
       "      <td>0.31</td>\n",
       "      <td>0.40</td>\n",
       "      <td>2.662</td>\n",
       "      <td>0.000167</td>\n",
       "    </tr>\n",
       "  </tbody>\n",
       "</table>\n",
       "</div>"
      ],
      "text/plain": [
       "    Species ID Bird vs Dino  Body Mass (kg)  Olfactory bulbs (cm3)  \\\n",
       "4            5            B            0.01                  0.003   \n",
       "17          18            B            0.03                  0.010   \n",
       "0            1            B            0.02                  0.009   \n",
       "18          19            B            0.01                  0.006   \n",
       "10          11            B            0.17                  0.015   \n",
       "12          13            B            0.05                  0.008   \n",
       "8            9            B            0.26                  0.027   \n",
       "22          23            B            0.17                  0.055   \n",
       "11          12            B            0.43                  0.206   \n",
       "16          17            B            0.30                  0.041   \n",
       "1            2            B            1.26                  0.006   \n",
       "15          16            B            0.10                  0.003   \n",
       "7            8            B            0.90                  0.234   \n",
       "24          25            B            2.06                  0.032   \n",
       "2            3            B            2.18                  0.026   \n",
       "23          24            B            1.20                  0.036   \n",
       "20          21            B            2.33                  0.009   \n",
       "21          22            D            0.92                  0.021   \n",
       "3            4            D            0.25                  0.050   \n",
       "6            7            D            0.50                  0.077   \n",
       "13          14            B           59.30                  0.274   \n",
       "9           10            D           12.61                  0.028   \n",
       "14          15            D           49.30                  1.080   \n",
       "5            6            D           85.96                  0.569   \n",
       "19          20            D           15.95                  0.042   \n",
       "\n",
       "    Cerebrum (cm3)  Optic Lobes (cm3)  Cerebellum (cm3)  Brain Stem (cm3)  \\\n",
       "4             1.57               0.20              0.34              0.08   \n",
       "17            2.22               0.73              0.76              0.29   \n",
       "0             1.53               0.20              0.16              0.06   \n",
       "18            0.46               0.24              0.11              0.06   \n",
       "10            6.09               0.88              1.62              0.49   \n",
       "12            1.63               0.41              0.26              0.17   \n",
       "8             8.36               1.40              1.63              0.86   \n",
       "22            4.69               0.95              0.53              0.53   \n",
       "11            9.45               1.44              2.40              0.85   \n",
       "16            5.50               1.62              1.94              0.77   \n",
       "1            16.81               2.84              1.70              0.68   \n",
       "15            0.63               0.27              0.13              0.07   \n",
       "7             5.95               0.99              0.96              0.55   \n",
       "24           12.24               2.16              2.18              1.07   \n",
       "2            11.08               1.95              0.89              1.15   \n",
       "23            5.18               0.90              1.00              0.58   \n",
       "20            8.05               1.07              1.62              0.68   \n",
       "21            1.38               0.87              0.50              0.33   \n",
       "3             0.41               0.16              0.09              0.12   \n",
       "6             0.60               0.36              0.24              0.17   \n",
       "13           36.85               7.61              6.45              5.13   \n",
       "9             3.71               1.31              1.60              2.17   \n",
       "14           14.81               4.75              3.16              2.35   \n",
       "5             9.52               3.60              5.16              3.78   \n",
       "19            1.61               0.70              0.31              0.40   \n",
       "\n",
       "    Whole Brain (cm3)  Brain to Body Mass Ratio (cm3)  \n",
       "4               2.113                        0.211300  \n",
       "17              3.720                        0.124000  \n",
       "0               1.899                        0.094950  \n",
       "18              0.816                        0.081600  \n",
       "10              8.605                        0.050618  \n",
       "12              2.308                        0.046160  \n",
       "8              11.417                        0.043912  \n",
       "22              6.225                        0.036618  \n",
       "11             13.496                        0.031386  \n",
       "16              9.101                        0.030337  \n",
       "1              21.356                        0.016949  \n",
       "15              1.033                        0.010330  \n",
       "7               8.134                        0.009038  \n",
       "24             16.612                        0.008064  \n",
       "2              13.946                        0.006397  \n",
       "23              7.116                        0.005930  \n",
       "20             10.749                        0.004613  \n",
       "21              2.771                        0.003012  \n",
       "3               0.710                        0.002840  \n",
       "6               1.277                        0.002554  \n",
       "13             51.184                        0.000863  \n",
       "9               6.648                        0.000527  \n",
       "14             23.800                        0.000483  \n",
       "5              18.849                        0.000219  \n",
       "19              2.662                        0.000167  "
      ]
     },
     "execution_count": 9,
     "metadata": {},
     "output_type": "execute_result"
    }
   ],
   "source": [
    "df_dino_brids_sorted = df.sort_values([\"Brain to Body Mass Ratio (cm3)\"], ascending = False)\n",
    "df_dino_brids_sorted\n"
   ]
  },
  {
   "cell_type": "code",
   "execution_count": 10,
   "metadata": {},
   "outputs": [],
   "source": [
    "bird_bbratio_avg = df_dino_brids_sorted[\"Brain to Body Mass Ratio (cm3)\"].loc[df[\"Bird vs Dino\"]== \"B\"].mean()"
   ]
  },
  {
   "cell_type": "code",
   "execution_count": 11,
   "metadata": {},
   "outputs": [
    {
     "data": {
      "text/plain": [
       "0.04517023869863395"
      ]
     },
     "execution_count": 11,
     "metadata": {},
     "output_type": "execute_result"
    }
   ],
   "source": [
    "bird_bbratio_avg"
   ]
  },
  {
   "cell_type": "code",
   "execution_count": 12,
   "metadata": {},
   "outputs": [],
   "source": [
    "dino_bbratio_avg = df_dino_brids_sorted[\"Brain to Body Mass Ratio (cm3)\"].loc[df[\"Bird vs Dino\"]== \"D\"].mean()"
   ]
  },
  {
   "cell_type": "code",
   "execution_count": 13,
   "metadata": {},
   "outputs": [
    {
     "data": {
      "text/plain": [
       "0.00140029839088593"
      ]
     },
     "execution_count": 13,
     "metadata": {},
     "output_type": "execute_result"
    }
   ],
   "source": [
    "dino_bbratio_avg"
   ]
  },
  {
   "cell_type": "code",
   "execution_count": 14,
   "metadata": {},
   "outputs": [],
   "source": [
    "#Crebrum to whole brain \n",
    "whole_brain_cm3 = df[\"Whole Brain (cm3)\"] \n",
    "df[\"Cerebrum to Brain Ratio (cm3)\"] = df[\"Cerebrum (cm3)\"]/whole_brain_cm3"
   ]
  },
  {
   "cell_type": "code",
   "execution_count": 15,
   "metadata": {},
   "outputs": [
    {
     "data": {
      "text/html": [
       "<div>\n",
       "<style scoped>\n",
       "    .dataframe tbody tr th:only-of-type {\n",
       "        vertical-align: middle;\n",
       "    }\n",
       "\n",
       "    .dataframe tbody tr th {\n",
       "        vertical-align: top;\n",
       "    }\n",
       "\n",
       "    .dataframe thead th {\n",
       "        text-align: right;\n",
       "    }\n",
       "</style>\n",
       "<table border=\"1\" class=\"dataframe\">\n",
       "  <thead>\n",
       "    <tr style=\"text-align: right;\">\n",
       "      <th></th>\n",
       "      <th>Species ID</th>\n",
       "      <th>Bird vs Dino</th>\n",
       "      <th>Body Mass (kg)</th>\n",
       "      <th>Olfactory bulbs (cm3)</th>\n",
       "      <th>Cerebrum (cm3)</th>\n",
       "      <th>Optic Lobes (cm3)</th>\n",
       "      <th>Cerebellum (cm3)</th>\n",
       "      <th>Brain Stem (cm3)</th>\n",
       "      <th>Whole Brain (cm3)</th>\n",
       "      <th>Brain to Body Mass Ratio (cm3)</th>\n",
       "      <th>Cerebrum to Brain Ratio (cm3)</th>\n",
       "    </tr>\n",
       "  </thead>\n",
       "  <tbody>\n",
       "    <tr>\n",
       "      <th>0</th>\n",
       "      <td>1</td>\n",
       "      <td>B</td>\n",
       "      <td>0.02</td>\n",
       "      <td>0.009</td>\n",
       "      <td>1.53</td>\n",
       "      <td>0.20</td>\n",
       "      <td>0.16</td>\n",
       "      <td>0.06</td>\n",
       "      <td>1.899</td>\n",
       "      <td>0.094950</td>\n",
       "      <td>0.805687</td>\n",
       "    </tr>\n",
       "    <tr>\n",
       "      <th>1</th>\n",
       "      <td>2</td>\n",
       "      <td>B</td>\n",
       "      <td>1.26</td>\n",
       "      <td>0.006</td>\n",
       "      <td>16.81</td>\n",
       "      <td>2.84</td>\n",
       "      <td>1.70</td>\n",
       "      <td>0.68</td>\n",
       "      <td>21.356</td>\n",
       "      <td>0.016949</td>\n",
       "      <td>0.787132</td>\n",
       "    </tr>\n",
       "    <tr>\n",
       "      <th>2</th>\n",
       "      <td>3</td>\n",
       "      <td>B</td>\n",
       "      <td>2.18</td>\n",
       "      <td>0.026</td>\n",
       "      <td>11.08</td>\n",
       "      <td>1.95</td>\n",
       "      <td>0.89</td>\n",
       "      <td>1.15</td>\n",
       "      <td>13.946</td>\n",
       "      <td>0.006397</td>\n",
       "      <td>0.794493</td>\n",
       "    </tr>\n",
       "    <tr>\n",
       "      <th>3</th>\n",
       "      <td>4</td>\n",
       "      <td>D</td>\n",
       "      <td>0.25</td>\n",
       "      <td>0.050</td>\n",
       "      <td>0.41</td>\n",
       "      <td>0.16</td>\n",
       "      <td>0.09</td>\n",
       "      <td>0.12</td>\n",
       "      <td>0.710</td>\n",
       "      <td>0.002840</td>\n",
       "      <td>0.577465</td>\n",
       "    </tr>\n",
       "    <tr>\n",
       "      <th>4</th>\n",
       "      <td>5</td>\n",
       "      <td>B</td>\n",
       "      <td>0.01</td>\n",
       "      <td>0.003</td>\n",
       "      <td>1.57</td>\n",
       "      <td>0.20</td>\n",
       "      <td>0.34</td>\n",
       "      <td>0.08</td>\n",
       "      <td>2.113</td>\n",
       "      <td>0.211300</td>\n",
       "      <td>0.743019</td>\n",
       "    </tr>\n",
       "  </tbody>\n",
       "</table>\n",
       "</div>"
      ],
      "text/plain": [
       "   Species ID Bird vs Dino  Body Mass (kg)  Olfactory bulbs (cm3)  \\\n",
       "0           1            B            0.02                  0.009   \n",
       "1           2            B            1.26                  0.006   \n",
       "2           3            B            2.18                  0.026   \n",
       "3           4            D            0.25                  0.050   \n",
       "4           5            B            0.01                  0.003   \n",
       "\n",
       "   Cerebrum (cm3)  Optic Lobes (cm3)  Cerebellum (cm3)  Brain Stem (cm3)  \\\n",
       "0            1.53               0.20              0.16              0.06   \n",
       "1           16.81               2.84              1.70              0.68   \n",
       "2           11.08               1.95              0.89              1.15   \n",
       "3            0.41               0.16              0.09              0.12   \n",
       "4            1.57               0.20              0.34              0.08   \n",
       "\n",
       "   Whole Brain (cm3)  Brain to Body Mass Ratio (cm3)  \\\n",
       "0              1.899                        0.094950   \n",
       "1             21.356                        0.016949   \n",
       "2             13.946                        0.006397   \n",
       "3              0.710                        0.002840   \n",
       "4              2.113                        0.211300   \n",
       "\n",
       "   Cerebrum to Brain Ratio (cm3)  \n",
       "0                       0.805687  \n",
       "1                       0.787132  \n",
       "2                       0.794493  \n",
       "3                       0.577465  \n",
       "4                       0.743019  "
      ]
     },
     "execution_count": 15,
     "metadata": {},
     "output_type": "execute_result"
    }
   ],
   "source": [
    "df.head()"
   ]
  },
  {
   "cell_type": "code",
   "execution_count": 16,
   "metadata": {},
   "outputs": [],
   "source": [
    "bird_cbratio_avg = df[\"Cerebrum to Brain Ratio (cm3)\"].loc[df[\"Bird vs Dino\"]== \"B\"].mean()"
   ]
  },
  {
   "cell_type": "code",
   "execution_count": 17,
   "metadata": {},
   "outputs": [
    {
     "data": {
      "text/plain": [
       "0.7094430277327214"
      ]
     },
     "execution_count": 17,
     "metadata": {},
     "output_type": "execute_result"
    }
   ],
   "source": [
    "bird_cbratio_avg"
   ]
  },
  {
   "cell_type": "code",
   "execution_count": 18,
   "metadata": {},
   "outputs": [],
   "source": [
    "dino_cbratio_avg = df[\"Cerebrum to Brain Ratio (cm3)\"].loc[df[\"Bird vs Dino\"]== \"D\"].mean()"
   ]
  },
  {
   "cell_type": "code",
   "execution_count": 19,
   "metadata": {},
   "outputs": [
    {
     "data": {
      "text/plain": [
       "0.5479339483969496"
      ]
     },
     "execution_count": 19,
     "metadata": {},
     "output_type": "execute_result"
    }
   ],
   "source": [
    "dino_cbratio_avg"
   ]
  },
  {
   "cell_type": "code",
   "execution_count": 20,
   "metadata": {},
   "outputs": [],
   "source": [
    "#Femur fucntion to calculate body mass (kg) from femur length (mm)\n",
    "\n",
    "def femfunc_s(FL, dtype):\n",
    "    if dtype == \"theropod\":\n",
    "        mass = 10**(3.1854*np.log10(FL)-3.184)/1000\n",
    "        return mass\n",
    "    elif dtype == \"sauropod\" or  \"saurischian\":\n",
    "        mass = 10**(2.3459*np.log10(FL)-0.2935)/1000\n",
    "        return mass\n",
    "    elif dtype == \"ornithischian\":\n",
    "        mass_2 = 10**(3.0587*np.log10(FL)-2.7042)/1000 #Mass in kg\n",
    "        return mass"
   ]
  },
  {
   "cell_type": "code",
   "execution_count": 21,
   "metadata": {},
   "outputs": [
    {
     "data": {
      "text/plain": [
       "48235.973700212715"
      ]
     },
     "execution_count": 21,
     "metadata": {},
     "output_type": "execute_result"
    }
   ],
   "source": [
    "current_unknown_species_mass = femfunc_s(295, \"theropod\")\n",
    "current_unknown_species_mass_cm3 = current_unknown_species_mass*1000\n",
    "current_unknown_species_mass_cm3"
   ]
  },
  {
   "cell_type": "code",
   "execution_count": 22,
   "metadata": {},
   "outputs": [],
   "source": [
    "unknown_brain_body_ratio_cm3 = unknown_brain_vol/current_unknown_species_mass_cm3"
   ]
  },
  {
   "cell_type": "code",
   "execution_count": 23,
   "metadata": {},
   "outputs": [
    {
     "data": {
      "text/plain": [
       "0.0005182853808523773"
      ]
     },
     "execution_count": 23,
     "metadata": {},
     "output_type": "execute_result"
    }
   ],
   "source": [
    "unknown_brain_body_ratio_cm3"
   ]
  },
  {
   "cell_type": "code",
   "execution_count": 24,
   "metadata": {},
   "outputs": [],
   "source": [
    "#unknown cerebral ratio\n",
    "unknown_c_mass_cm3 = 3.8\n",
    "unknown_brain_vol = 25\n",
    "unknown_cerebral_ratio=unknown_c_mass_cm3/unknown_brain_vol"
   ]
  },
  {
   "cell_type": "code",
   "execution_count": 25,
   "metadata": {},
   "outputs": [
    {
     "data": {
      "text/plain": [
       "0.152"
      ]
     },
     "execution_count": 25,
     "metadata": {},
     "output_type": "execute_result"
    }
   ],
   "source": [
    "unknown_cerebral_ratio"
   ]
  },
  {
   "cell_type": "code",
   "execution_count": 26,
   "metadata": {},
   "outputs": [
    {
     "name": "stdout",
     "output_type": "stream",
     "text": [
      "DINO BB: 0.00140029839088593\n",
      "BIRD BB: 0.04517023869863395\n"
     ]
    }
   ],
   "source": [
    "print(\"DINO BB:\",dino_bbratio_avg)\n",
    "print(\"BIRD BB:\",bird_bbratio_avg)\n",
    "#print(\"DINO CB:\",dino_cbration_avg)\n",
    "#print(\"BIRD CB:\",bird_cbration_avg)"
   ]
  },
  {
   "cell_type": "code",
   "execution_count": 27,
   "metadata": {},
   "outputs": [
    {
     "name": "stdout",
     "output_type": "stream",
     "text": [
      "0.0005182853808523773\n",
      "\n"
     ]
    }
   ],
   "source": [
    "print(unknown_brain_body_ratio_cm3)\n",
    "print()"
   ]
  },
  {
   "cell_type": "code",
   "execution_count": null,
   "metadata": {},
   "outputs": [],
   "source": []
  },
  {
   "cell_type": "code",
   "execution_count": 30,
   "metadata": {},
   "outputs": [],
   "source": [
    "def dino_or_bird_cb(unknown_cb_ratio):\n",
    "    if abs((unknown_cb_ratio-bird_cbratio_avg))>abs((unknown_cb_ratio-dino_cbratio_avg)):\n",
    "        return \"This is most likely of a non-avian species\"\n",
    "    elif abs((unknown_cb_ratio-bird_cbratio_avg))<abs((unknown_cb_ratio-dino_cbratio_avg)):\n",
    "        return \"This is most likely of a avian species \""
   ]
  },
  {
   "cell_type": "code",
   "execution_count": 35,
   "metadata": {},
   "outputs": [],
   "source": [
    "def dino_or_bird_bb(unknown_bb_ratio):\n",
    "    if abs((unknown_bb_ratio-bird_bbratio_avg))>abs((unknown_bb_ratio-dino_bbratio_avg)):\n",
    "        return \"This is most likely of a non-avian species\"\n",
    "    elif abs((unknown_bb_ratio-bird_bbratio_avg))<abs((unknown_bb_ratio-dino_bbratio_avg)):\n",
    "        return \"This is most likely of a avian species \""
   ]
  },
  {
   "cell_type": "code",
   "execution_count": 36,
   "metadata": {},
   "outputs": [
    {
     "data": {
      "text/plain": [
       "'This is most likely of a non-avian species'"
      ]
     },
     "execution_count": 36,
     "metadata": {},
     "output_type": "execute_result"
    }
   ],
   "source": [
    "dino_or_bird_cb(unknown_cerebral_ratio)"
   ]
  },
  {
   "cell_type": "code",
   "execution_count": 37,
   "metadata": {},
   "outputs": [
    {
     "data": {
      "text/plain": [
       "'This is most likely of a non-avian species'"
      ]
     },
     "execution_count": 37,
     "metadata": {},
     "output_type": "execute_result"
    }
   ],
   "source": [
    "dino_or_bird_bb(unknown_brain_body_ratio_cm3)"
   ]
  },
  {
   "cell_type": "code",
   "execution_count": 103,
   "metadata": {},
   "outputs": [
    {
     "data": {
      "image/png": "[encoded data removed]",
      "text/plain": [
       "<Figure size 432x288 with 1 Axes>"
      ]
     },
     "metadata": {
      "needs_background": "light"
     },
     "output_type": "display_data"
    }
   ],
   "source": [
    "#Graph for cerebral ratio + graph for brain and body ratio\n",
    "plt.scatter(dino_bm,dino_brain_vol,\n",
    "            label = \"Dinosaur Brain Volume vs. Dinosaur Body Mass\",\n",
    "            color = \"cyan\", edgecolor = \"black\")\n",
    "plt.scatter(bird_bm,bird_brain_vol,\n",
    "            label = \"Bird Brain Volume vs. Bird Body Mass\",\n",
    "           color = \"yellow\", edgecolor = \"black\")\n",
    "plt.scatter(current_unknown_species_mass,unknown_brain_vol, color = \"red\", marker = \"o\"\n",
    "            , s= 150, edgecolor = \"black\", label = \"Unknown Species (Non-Avian)\")\n",
    "plt.scatter(bird_brain_vol_avg, bird_bm_avg, color = \"magenta\", marker = \"*\",\n",
    "            edgecolor = \"black\"\n",
    ",s=128, label = \"Bird Average\")\n",
    "plt.scatter(dino_bm_avg,dino_brain_vol_avg, color = \"gold\", marker = \"*\", \n",
    "            edgecolor = \"black\"\n",
    ",s=128, label = \"Dinosaur Average\")\n",
    "plt.title(\"Brain Volume vs. Body Mass: Birds and Dinosaurs\", color = \"magenta\")\n",
    "plt.ylabel(\"Body Mass (kg)\")\n",
    "plt.xlabel(\"Brain Volume (cm3)\")\n",
    "plt.legend(bbox_to_anchor =[1.0, 1.0])\n",
    "plt.show()\n"
   ]
  },
  {
   "cell_type": "code",
   "execution_count": 93,
   "metadata": {},
   "outputs": [],
   "source": [
    "dino_bm = df[\"Body Mass (kg)\"].loc[df[\"Bird vs Dino\"]== \"D\"]\n",
    "dino_bm_avg = df[\"Body Mass (kg)\"].loc[df[\"Bird vs Dino\"]== \"D\"].mean()\n",
    "dino_brain_vol = df[\"Whole Brain (cm3)\"].loc[df[\"Bird vs Dino\"]== \"D\"]\n",
    "#dino_cbratio = df[\"Cerebrum to Brain Ratio (cm3)\"].loc[df[\"Bird vs Dino\"]== \"D\"]\n",
    "bird_bm = df[\"Body Mass (kg)\"].loc[df[\"Bird vs Dino\"]== \"B\"]\n",
    "bird_bm_avg = df[\"Body Mass (kg)\"].loc[df[\"Bird vs Dino\"]== \"B\"].mean()\n",
    "bird_brain_vol = df[\"Whole Brain (cm3)\"].loc[df[\"Bird vs Dino\"]== \"B\"]\n",
    "#bird_cbratio = df[\"Cerebrum to Brain Ratio (cm3)\"].loc[df[\"Bird vs Dino\"]== \"B\"]\n",
    "bird_brain_vol_avg = df[\"Whole Brain (cm3)\"].loc[df[\"Bird vs Dino\"]== \"B\"].mean()\n",
    "dino_brain_vol_avg = df[\"Whole Brain (cm3)\"].loc[df[\"Bird vs Dino\"]== \"D\"].mean()"
   ]
  },
  {
   "cell_type": "code",
   "execution_count": 49,
   "metadata": {},
   "outputs": [
    {
     "data": {
      "text/plain": [
       "0      1.899\n",
       "1     21.356\n",
       "2     13.946\n",
       "4      2.113\n",
       "7      8.134\n",
       "8     11.417\n",
       "10     8.605\n",
       "11    13.496\n",
       "12     2.308\n",
       "13    51.184\n",
       "15     1.033\n",
       "16     9.101\n",
       "17     3.720\n",
       "18     0.816\n",
       "20    10.749\n",
       "22     6.225\n",
       "23     7.116\n",
       "24    16.612\n",
       "Name: Whole Brain (cm3), dtype: float64"
      ]
     },
     "execution_count": 49,
     "metadata": {},
     "output_type": "execute_result"
    }
   ],
   "source": [
    "bird_brain_vol = df[\"Whole Brain (cm3)\"].loc[df[\"Bird vs Dino\"]== \"B\"]\n",
    "bird_brain_vol\n"
   ]
  },
  {
   "cell_type": "code",
   "execution_count": null,
   "metadata": {},
   "outputs": [],
   "source": []
  }
 ],
 "metadata": {
  "kernelspec": {
   "display_name": "Python 3",
   "language": "python",
   "name": "python3"
  },
  "language_info": {
   "codemirror_mode": {
    "name": "ipython",
    "version": 3
   },
   "file_extension": ".py",
   "mimetype": "text/x-python",
   "name": "python",
   "nbconvert_exporter": "python",
   "pygments_lexer": "ipython3",
   "version": "3.7.3"
  }
 },
 "nbformat": 4,
 "nbformat_minor": 2
}
